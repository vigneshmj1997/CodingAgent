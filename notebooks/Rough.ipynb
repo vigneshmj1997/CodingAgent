{
 "cells": [
  {
   "cell_type": "code",
   "execution_count": 6,
   "id": "85d9ddfc",
   "metadata": {},
   "outputs": [
    {
     "name": "stdout",
     "output_type": "stream",
     "text": [
      "..//\n",
      "├── .env\n",
      "├── .gitignore\n",
      "├── .python-version\n",
      "├── LICENSE\n",
      "├── README.md\n",
      "├── notebooks/\n",
      "│   └── Rough.ipynb\n",
      "├── pyproject.toml\n",
      "├── src/\n",
      "│   ├── swe.egg-info/\n",
      "│   │   ├── PKG-INFO\n",
      "│   │   ├── SOURCES.txt\n",
      "│   │   ├── dependency_links.txt\n",
      "│   │   ├── entry_points.txt\n",
      "│   │   ├── requires.txt\n",
      "│   │   └── top_level.txt\n",
      "│   ├── swi/\n",
      "│   │   ├── __init__.py\n",
      "│   │   ├── core/\n",
      "│   │   │   ├── builder.py\n",
      "│   │   │   ├── prompt.py\n",
      "│   │   │   └── tools/\n",
      "│   │   │       ├── fetch_tool.py\n",
      "│   │   │       ├── file_tool.py\n",
      "│   │   │       └── shell_tool.py\n",
      "│   │   ├── main.py\n",
      "│   │   └── utils/\n",
      "│   │       ├── config.py\n",
      "│   │       └── model.py\n",
      "│   └── swi.egg-info/\n",
      "│       ├── PKG-INFO\n",
      "│       ├── SOURCES.txt\n",
      "│       ├── dependency_links.txt\n",
      "│       ├── entry_points.txt\n",
      "│       ├── requires.txt\n",
      "│       └── top_level.txt\n",
      "├── test/\n",
      "└── uv.lock\n"
     ]
    }
   ],
   "source": [
    "import os\n",
    "\n",
    "def get_folder_tree(root_dir, ignore_dirs=None, prefix=\"\"):\n",
    "    if ignore_dirs is None:\n",
    "        ignore_dirs = {\"node_modules\", \".git\", \".build\", \"__pycache__\", \".venv\", \".idea\",\"build\"}\n",
    "\n",
    "    try:\n",
    "        entries = sorted(os.listdir(root_dir))\n",
    "    except PermissionError:\n",
    "        print(prefix + \"🚫 [Permission Denied]\")\n",
    "        return\n",
    "\n",
    "    for index, entry in enumerate(entries):\n",
    "        path = os.path.join(root_dir, entry)\n",
    "        connector = \"├── \" if index < len(entries) - 1 else \"└── \"\n",
    "\n",
    "        if os.path.isdir(path):\n",
    "            if entry in ignore_dirs:\n",
    "                continue\n",
    "            print(prefix + connector + entry + \"/\")\n",
    "            extension = \"│   \" if index < len(entries) - 1 else \"    \"\n",
    "            get_folder_tree(path, ignore_dirs, prefix + extension)\n",
    "        else:\n",
    "            print(prefix + connector + entry)\n",
    "\n",
    "\n",
    "if __name__ == \"__main__\":\n",
    "    root_path = \"../\"  # change this to any folder you want\n",
    "    print(root_path + \"/\")\n",
    "    get_folder_tree(root_path)\n"
   ]
  },
  {
   "cell_type": "code",
   "execution_count": null,
   "id": "3ca39532",
   "metadata": {},
   "outputs": [],
   "source": [
    "from langchain_openai import AzureChatOpenAI\n"
   ]
  },
  {
   "cell_type": "code",
   "execution_count": 5,
   "id": "113d30b5",
   "metadata": {},
   "outputs": [
    {
     "data": {
      "text/plain": [
       "AIMessage(content='I’m here to assist you! Whether you have questions, need information, or just want to chat, feel free to let me know how I can help!', additional_kwargs={'refusal': None}, response_metadata={'token_usage': {'completion_tokens': 33, 'prompt_tokens': 9, 'total_tokens': 42, 'completion_tokens_details': {'accepted_prediction_tokens': 0, 'audio_tokens': 0, 'reasoning_tokens': 0, 'rejected_prediction_tokens': 0}, 'prompt_tokens_details': {'audio_tokens': 0, 'cached_tokens': 0}}, 'model_name': 'gpt-4o-mini-2024-07-18', 'system_fingerprint': 'fp_efad92c60b', 'id': 'chatcmpl-CBgMXeib8c6YweRD2YG6A4l4ZoXcu', 'service_tier': None, 'prompt_filter_results': [{'prompt_index': 0, 'content_filter_results': {'hate': {'filtered': False, 'severity': 'safe'}, 'jailbreak': {'filtered': False, 'detected': False}, 'self_harm': {'filtered': False, 'severity': 'safe'}, 'sexual': {'filtered': False, 'severity': 'safe'}, 'violence': {'filtered': False, 'severity': 'safe'}}}], 'finish_reason': 'stop', 'logprobs': None, 'content_filter_results': {'hate': {'filtered': False, 'severity': 'safe'}, 'self_harm': {'filtered': False, 'severity': 'safe'}, 'sexual': {'filtered': False, 'severity': 'safe'}, 'violence': {'filtered': False, 'severity': 'safe'}}}, id='run--9f8a6a43-e59f-4163-a53a-9a38a396977a-0', usage_metadata={'input_tokens': 9, 'output_tokens': 33, 'total_tokens': 42, 'input_token_details': {'audio': 0, 'cache_read': 0}, 'output_token_details': {'audio': 0, 'reasoning': 0}})"
      ]
     },
     "execution_count": 5,
     "metadata": {},
     "output_type": "execute_result"
    }
   ],
   "source": [
    "model.invoke(\"What doing\")"
   ]
  },
  {
   "cell_type": "code",
   "execution_count": null,
   "id": "c530fe2b",
   "metadata": {},
   "outputs": [],
   "source": []
  }
 ],
 "metadata": {
  "kernelspec": {
   "display_name": "codingagent",
   "language": "python",
   "name": "python3"
  },
  "language_info": {
   "codemirror_mode": {
    "name": "ipython",
    "version": 3
   },
   "file_extension": ".py",
   "mimetype": "text/x-python",
   "name": "python",
   "nbconvert_exporter": "python",
   "pygments_lexer": "ipython3",
   "version": "3.12.11"
  }
 },
 "nbformat": 4,
 "nbformat_minor": 5
}
